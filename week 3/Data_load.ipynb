{
  "nbformat": 4,
  "nbformat_minor": 5,
  "metadata": {
    "kernelspec": {
      "display_name": "Python 3",
      "language": "python",
      "name": "python3"
    },
    "language_info": {
      "codemirror_mode": {
        "name": "ipython",
        "version": 3
      },
      "file_extension": ".py",
      "mimetype": "text/x-python",
      "name": "python",
      "nbconvert_exporter": "python",
      "pygments_lexer": "ipython3",
      "version": "3.8.5"
    },
    "colab": {
      "name": "Data_load.ipynb",
      "provenance": [],
      "collapsed_sections": []
    }
  },
  "cells": [
    {
      "cell_type": "code",
      "metadata": {
        "colab": {
          "base_uri": "https://localhost:8080/"
        },
        "id": "GupETtXMJP3T",
        "outputId": "6664643f-fa68-49f8-e603-53b2d7cb9c76"
      },
      "source": [
        "from google.colab import drive\n",
        "drive.mount('/content/drive')"
      ],
      "id": "GupETtXMJP3T",
      "execution_count": 1,
      "outputs": [
        {
          "output_type": "stream",
          "text": [
            "Mounted at /content/drive\n"
          ],
          "name": "stdout"
        }
      ]
    },
    {
      "cell_type": "code",
      "metadata": {
        "id": "distinguished-workplace"
      },
      "source": [
        "import torch\n",
        "from torch.utils.data import Dataset\n",
        "from torchvision import datasets\n",
        "from torchvision.transforms import ToTensor\n",
        "import matplotlib.pyplot as plt"
      ],
      "id": "distinguished-workplace",
      "execution_count": 2,
      "outputs": []
    },
    {
      "cell_type": "code",
      "metadata": {
        "id": "SAu0T6BPJC6_"
      },
      "source": [
        "data_all = \"/content/drive/MyDrive/pytorch/week 3/train/\"\n",
        "\n",
        "val_data = \"/content/drive/MyDrive/pytorch/week 3/validation/\""
      ],
      "id": "SAu0T6BPJC6_",
      "execution_count": 3,
      "outputs": []
    },
    {
      "cell_type": "code",
      "metadata": {
        "id": "lsyslHbaYrkb"
      },
      "source": [
        "dog_files = [f'dog.{i}.jpg' for i in range(12500)]\n",
        "cat_files = [f'cat.{i}.jpg' for i in range(12500)]\n",
        "\n",
        "data_all_2 = dog_files + cat_files"
      ],
      "id": "lsyslHbaYrkb",
      "execution_count": 4,
      "outputs": []
    },
    {
      "cell_type": "code",
      "metadata": {
        "colab": {
          "base_uri": "https://localhost:8080/"
        },
        "id": "4hX_jsr2ZlQ6",
        "outputId": "f319a1ff-0fa6-473b-abd4-a9cf32ee8dc7"
      },
      "source": [
        "len(data_all_2)"
      ],
      "id": "4hX_jsr2ZlQ6",
      "execution_count": 5,
      "outputs": [
        {
          "output_type": "execute_result",
          "data": {
            "text/plain": [
              "25000"
            ]
          },
          "metadata": {
            "tags": []
          },
          "execution_count": 5
        }
      ]
    },
    {
      "cell_type": "markdown",
      "metadata": {
        "id": "SFM04w-jZvuj"
      },
      "source": [
        "25000 / 64 = 390.625"
      ],
      "id": "SFM04w-jZvuj"
    },
    {
      "cell_type": "code",
      "metadata": {
        "id": "E-6lYE-bJojT"
      },
      "source": [
        "from sklearn.model_selection import train_test_split\n",
        "train_data, test_data = train_test_split(data_all_2, test_size = 0.3)"
      ],
      "id": "E-6lYE-bJojT",
      "execution_count": 6,
      "outputs": []
    },
    {
      "cell_type": "code",
      "metadata": {
        "id": "unavailable-external"
      },
      "source": [
        "from torch.utils.data import DataLoader\n",
        "\n",
        "train_dataloader = DataLoader(train_data, batch_size=64, shuffle=True)\n",
        "test_dataloader = DataLoader(test_data, batch_size=64, shuffle=True)"
      ],
      "id": "unavailable-external",
      "execution_count": 7,
      "outputs": []
    },
    {
      "cell_type": "code",
      "metadata": {
        "colab": {
          "base_uri": "https://localhost:8080/"
        },
        "id": "scientific-classics",
        "outputId": "13776a43-ba6f-424e-a883-09caa6ed24f5"
      },
      "source": [
        "len(train_dataloader)"
      ],
      "id": "scientific-classics",
      "execution_count": 8,
      "outputs": [
        {
          "output_type": "execute_result",
          "data": {
            "text/plain": [
              "274"
            ]
          },
          "metadata": {
            "tags": []
          },
          "execution_count": 8
        }
      ]
    },
    {
      "cell_type": "code",
      "metadata": {
        "colab": {
          "base_uri": "https://localhost:8080/"
        },
        "id": "opponent-zambia",
        "outputId": "1a465bf5-a6a1-4857-c000-1912a2b0da19"
      },
      "source": [
        "len(test_dataloader)"
      ],
      "id": "opponent-zambia",
      "execution_count": 9,
      "outputs": [
        {
          "output_type": "execute_result",
          "data": {
            "text/plain": [
              "118"
            ]
          },
          "metadata": {
            "tags": []
          },
          "execution_count": 9
        }
      ]
    },
    {
      "cell_type": "markdown",
      "metadata": {
        "id": "-oR_vqQJZ5CR"
      },
      "source": [
        "얼추 390대의 개수가 나왔다."
      ],
      "id": "-oR_vqQJZ5CR"
    },
    {
      "cell_type": "code",
      "metadata": {
        "colab": {
          "base_uri": "https://localhost:8080/"
        },
        "id": "Y4uGeVl3VqEG",
        "outputId": "a5c94b2d-087d-4a23-da09-6045e1337633"
      },
      "source": [
        "next(iter(train_dataloader))"
      ],
      "id": "Y4uGeVl3VqEG",
      "execution_count": 12,
      "outputs": [
        {
          "output_type": "execute_result",
          "data": {
            "text/plain": [
              "['dog.431.jpg',\n",
              " 'dog.12228.jpg',\n",
              " 'dog.1885.jpg',\n",
              " 'dog.9240.jpg',\n",
              " 'cat.9813.jpg',\n",
              " 'dog.8627.jpg',\n",
              " 'dog.4852.jpg',\n",
              " 'dog.6265.jpg',\n",
              " 'cat.9302.jpg',\n",
              " 'cat.9138.jpg',\n",
              " 'dog.5739.jpg',\n",
              " 'cat.7168.jpg',\n",
              " 'cat.4892.jpg',\n",
              " 'dog.6766.jpg',\n",
              " 'dog.11771.jpg',\n",
              " 'cat.6867.jpg',\n",
              " 'dog.10257.jpg',\n",
              " 'dog.10081.jpg',\n",
              " 'dog.3360.jpg',\n",
              " 'cat.1054.jpg',\n",
              " 'dog.3870.jpg',\n",
              " 'cat.8839.jpg',\n",
              " 'cat.6602.jpg',\n",
              " 'cat.8455.jpg',\n",
              " 'cat.7760.jpg',\n",
              " 'dog.12056.jpg',\n",
              " 'dog.6066.jpg',\n",
              " 'dog.12203.jpg',\n",
              " 'dog.5151.jpg',\n",
              " 'cat.6014.jpg',\n",
              " 'cat.4883.jpg',\n",
              " 'dog.2944.jpg',\n",
              " 'cat.1855.jpg',\n",
              " 'cat.5514.jpg',\n",
              " 'dog.8534.jpg',\n",
              " 'cat.1743.jpg',\n",
              " 'cat.593.jpg',\n",
              " 'dog.7087.jpg',\n",
              " 'dog.10335.jpg',\n",
              " 'cat.12158.jpg',\n",
              " 'dog.1902.jpg',\n",
              " 'cat.11514.jpg',\n",
              " 'cat.6082.jpg',\n",
              " 'cat.2231.jpg',\n",
              " 'cat.3696.jpg',\n",
              " 'dog.1614.jpg',\n",
              " 'dog.7525.jpg',\n",
              " 'dog.8252.jpg',\n",
              " 'cat.4563.jpg',\n",
              " 'cat.2104.jpg',\n",
              " 'dog.1034.jpg',\n",
              " 'dog.4088.jpg',\n",
              " 'dog.695.jpg',\n",
              " 'cat.9890.jpg',\n",
              " 'dog.7862.jpg',\n",
              " 'dog.5149.jpg',\n",
              " 'cat.3761.jpg',\n",
              " 'cat.2426.jpg',\n",
              " 'cat.8157.jpg',\n",
              " 'cat.11050.jpg',\n",
              " 'dog.10084.jpg',\n",
              " 'cat.5960.jpg',\n",
              " 'dog.3222.jpg',\n",
              " 'dog.11536.jpg']"
            ]
          },
          "metadata": {
            "tags": []
          },
          "execution_count": 12
        }
      ]
    },
    {
      "cell_type": "code",
      "metadata": {
        "colab": {
          "base_uri": "https://localhost:8080/",
          "height": 244
        },
        "id": "aRniZJCiZZm_",
        "outputId": "fa1ef5b3-d034-4ca3-8e09-663c594c51fb"
      },
      "source": [
        "# Display image and label.\n",
        "train_features, train_labels = next(iter(train_dataloader))\n",
        "print(f\"Feature batch shape: {train_features.size()}\")\n",
        "print(f\"Labels batch shape: {train_labels.size()}\")\n",
        "img = train_features[0].squeeze()\n",
        "label = train_labels[0]\n",
        "plt.imshow(img, cmap=\"gray\")\n",
        "plt.show()\n",
        "print(f\"Label: {label}\")"
      ],
      "id": "aRniZJCiZZm_",
      "execution_count": 10,
      "outputs": [
        {
          "output_type": "error",
          "ename": "ValueError",
          "evalue": "ignored",
          "traceback": [
            "\u001b[0;31m---------------------------------------------------------------------------\u001b[0m",
            "\u001b[0;31mValueError\u001b[0m                                Traceback (most recent call last)",
            "\u001b[0;32m<ipython-input-10-735af703f83c>\u001b[0m in \u001b[0;36m<module>\u001b[0;34m()\u001b[0m\n\u001b[1;32m      1\u001b[0m \u001b[0;31m# Display image and label.\u001b[0m\u001b[0;34m\u001b[0m\u001b[0;34m\u001b[0m\u001b[0;34m\u001b[0m\u001b[0m\n\u001b[0;32m----> 2\u001b[0;31m \u001b[0mtrain_features\u001b[0m\u001b[0;34m,\u001b[0m \u001b[0mtrain_labels\u001b[0m \u001b[0;34m=\u001b[0m \u001b[0mnext\u001b[0m\u001b[0;34m(\u001b[0m\u001b[0miter\u001b[0m\u001b[0;34m(\u001b[0m\u001b[0mtrain_dataloader\u001b[0m\u001b[0;34m)\u001b[0m\u001b[0;34m)\u001b[0m\u001b[0;34m\u001b[0m\u001b[0;34m\u001b[0m\u001b[0m\n\u001b[0m\u001b[1;32m      3\u001b[0m \u001b[0mprint\u001b[0m\u001b[0;34m(\u001b[0m\u001b[0;34mf\"Feature batch shape: {train_features.size()}\"\u001b[0m\u001b[0;34m)\u001b[0m\u001b[0;34m\u001b[0m\u001b[0;34m\u001b[0m\u001b[0m\n\u001b[1;32m      4\u001b[0m \u001b[0mprint\u001b[0m\u001b[0;34m(\u001b[0m\u001b[0;34mf\"Labels batch shape: {train_labels.size()}\"\u001b[0m\u001b[0;34m)\u001b[0m\u001b[0;34m\u001b[0m\u001b[0;34m\u001b[0m\u001b[0m\n\u001b[1;32m      5\u001b[0m \u001b[0mimg\u001b[0m \u001b[0;34m=\u001b[0m \u001b[0mtrain_features\u001b[0m\u001b[0;34m[\u001b[0m\u001b[0;36m0\u001b[0m\u001b[0;34m]\u001b[0m\u001b[0;34m.\u001b[0m\u001b[0msqueeze\u001b[0m\u001b[0;34m(\u001b[0m\u001b[0;34m)\u001b[0m\u001b[0;34m\u001b[0m\u001b[0;34m\u001b[0m\u001b[0m\n",
            "\u001b[0;31mValueError\u001b[0m: too many values to unpack (expected 2)"
          ]
        }
      ]
    },
    {
      "cell_type": "code",
      "metadata": {
        "id": "incorrect-sheet"
      },
      "source": [
        ""
      ],
      "id": "incorrect-sheet",
      "execution_count": null,
      "outputs": []
    },
    {
      "cell_type": "code",
      "metadata": {
        "id": "formed-better"
      },
      "source": [
        ""
      ],
      "id": "formed-better",
      "execution_count": null,
      "outputs": []
    }
  ]
}